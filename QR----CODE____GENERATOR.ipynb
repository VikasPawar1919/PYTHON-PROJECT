{
 "cells": [
  {
   "cell_type": "code",
   "execution_count": 32,
   "metadata": {},
   "outputs": [],
   "source": [
    "from tkinter import *\n",
    "import qrcode\n",
    "import tkinter.messagebox\n",
    "from PIL import Image, ImageTk\n",
    "import os"
   ]
  },
  {
   "cell_type": "code",
   "execution_count": 33,
   "metadata": {},
   "outputs": [],
   "source": [
    "win = Tk()\n",
    "win.title('QRcode Generator')\n",
    "win.config(bg='red')\n",
    "# =================================== Labels ===============================================================\n",
    "lb = Label(win, text=' IT ID CARD  ', font=( ('arial'),20,'bold'), bg='black', fg='white', width=90)\n",
    "lb.place(x=0, y=10)\n",
    "lb2 = Label(win, text='employee Name :-', font=('bold', 15))\n",
    "lb2.place(x=230, y=110)\n",
    "lb3 = Label(win, text=' Id NO. :-', font=('bold', 15))\n",
    "lb3.place(x=230, y=160)\n",
    "lb4 = Label(win, text='Designation :-', font=('bold', 15))\n",
    "lb4.place(x=230, y=210)\n",
    "lb5 = Label(win, text=' Department :-', font=('bold', 15))\n",
    "lb5.place(x=230, y=265)\n",
    "lb6 = Label(win, bg='SteelBlue3', text=\"No QrCode Generated !!!\", font=('bold', 20))\n",
    "lb6.place(x=930, y=115)"
   ]
  },
  {
   "cell_type": "markdown",
   "metadata": {},
   "source": [
    "================================= Entry Boxes ================================================================="
   ]
  },
  {
   "cell_type": "code",
   "execution_count": 34,
   "metadata": {},
   "outputs": [],
   "source": [
    "Ent1 = Entry(win, bd=6, width=29, font='Verdana 12 bold')\n",
    "Ent1.place(x=430, y=162)\n",
    "Ent0 = Entry(win, bd=6, width=29, font='Verdana 12 bold')\n",
    "Ent0.place(x=430, y=112)\n",
    "Ent2 = Entry(win, bd=6, width=29, font='Verdana 12 bold')\n",
    "Ent2.place(x=430, y=215)\n",
    "Ent3 = Entry(win, bd=6, width=29, font='Verdana 12 bold')\n",
    "Ent3.place(x=430, y=268)"
   ]
  },
  {
   "cell_type": "markdown",
   "metadata": {},
   "source": [
    "============================== Function ========================================================================="
   ]
  },
  {
   "cell_type": "code",
   "execution_count": 35,
   "metadata": {},
   "outputs": [],
   "source": [
    "def generate():\n",
    "    if Ent0.get() == '' or Ent1.get() == '' or Ent2.get() == '' or Ent3.get() == '':\n",
    "        tkinter.messagebox.showerror(\"Error\", \"all fields are mandatory !!!\")\n",
    "    else:\n",
    "        if not os.path.exists(\"C:\\\\wordcloud\\\\template_classic.webp\"):\n",
    "            os.mkdir(\"C:\\\\wordcloud\\\\template_classic.webp\")\n",
    "        qr = qrcode.make(f'Student Name{Ent0.get()},Roll NO{Ent1.get()},class{Ent2.get()},Course {Ent3.get()}')\n",
    "        qr.save(\"C:\\\\wordcloud\\\\template_classic.webp\" + str(Ent0.get()) + '.webp')\n",
    "\n",
    "        # ============================= Image Update ================================================================\n",
    "        global img\n",
    "        image = Image.open(\"C:\\\\wordcloud\\\\template_classic.webp\" + str(Ent0.get()) + '.webp')\n",
    "        size = image.resize((180, 180))\n",
    "        img = ImageTk.PhotoImage(size)\n",
    "        lb6.config(image=img)\n",
    "        # ============================= Message ==================================================================\n",
    "        tkinter.messagebox.showinfo(\"QrCode\", \"Student QrCode Generated Successfully.\")"
   ]
  },
  {
   "cell_type": "markdown",
   "metadata": {},
   "source": [
    "============================== clear button function ==========================================================="
   ]
  },
  {
   "cell_type": "code",
   "execution_count": 36,
   "metadata": {},
   "outputs": [],
   "source": [
    "def clear():\n",
    "    Ent0.delete(0, 'end'), Ent1.delete(0, 'end'), Ent2.delete(0, 'end'), Ent3.delete(0, 'end'), lb6.config(image='')"
   ]
  },
  {
   "cell_type": "markdown",
   "metadata": {},
   "source": [
    "================================== Exit button ================================================================="
   ]
  },
  {
   "cell_type": "code",
   "execution_count": 37,
   "metadata": {},
   "outputs": [],
   "source": [
    "def close():\n",
    "    tkinter.messagebox.askquestion(\"Conform Exit\", \"Are You Sure You Want To Exit\")\n",
    "    win.destroy()"
   ]
  },
  {
   "cell_type": "markdown",
   "metadata": {},
   "source": [
    "=============================== Buttons ========================================================================="
   ]
  },
  {
   "cell_type": "code",
   "execution_count": 38,
   "metadata": {},
   "outputs": [],
   "source": [
    "Btn = Button(win, text='Generate QR Code', bg='black', font=20, fg='white', bd=6, command=generate)\n",
    "Btn.place(x=330, y=450)\n",
    "Btn1 = Button(win, text='Clear All', bg='black', font=20, fg='white', width=15, bd=6, command=clear)\n",
    "Btn1.place(x=580, y=450)\n",
    "Bnt2 = Button(win, text='Exit', bg='black', font=20, fg='white', width=15, bd=6, command=close)\n",
    "Bnt2.place(x=460, y=550)\n",
    "win.mainloop()"
   ]
  },
  {
   "cell_type": "code",
   "execution_count": null,
   "metadata": {},
   "outputs": [],
   "source": []
  },
  {
   "cell_type": "code",
   "execution_count": null,
   "metadata": {},
   "outputs": [],
   "source": []
  },
  {
   "cell_type": "code",
   "execution_count": null,
   "metadata": {},
   "outputs": [],
   "source": []
  },
  {
   "cell_type": "code",
   "execution_count": null,
   "metadata": {},
   "outputs": [],
   "source": []
  }
 ],
 "metadata": {
  "kernelspec": {
   "display_name": "Python 3 (ipykernel)",
   "language": "python",
   "name": "python3"
  },
  "language_info": {
   "codemirror_mode": {
    "name": "ipython",
    "version": 3
   },
   "file_extension": ".py",
   "mimetype": "text/x-python",
   "name": "python",
   "nbconvert_exporter": "python",
   "pygments_lexer": "ipython3",
   "version": "3.10.9"
  }
 },
 "nbformat": 4,
 "nbformat_minor": 2
}

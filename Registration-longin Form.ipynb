{
 "cells": [
  {
   "cell_type": "code",
   "execution_count": 2,
   "id": "47c5dd82",
   "metadata": {},
   "outputs": [],
   "source": [
    "from tkinter import *\n",
    "root=Tk()\n",
    "root.geometry(\"500x500\")\n",
    "root.config(bg=\"blue\")\n",
    "root.title(\"Registration/longin Form\")\n",
    "label0=Label(root,text=\"Register Form\",width=20,font=(\"bold\",20))\n",
    "label0.place(x=70,y=53)\n",
    "label9=Label(root,text=\"Login\",width=20,font=(\"bold\",20))\n",
    "label9.place(x=600,y=53)\n",
    "label1=Label(root,text=\"Enter your name\",width=20,font=(\"bold\",10))\n",
    "label1.place(x=70,y=130)\n",
    "entry1=Entry(root)\n",
    "entry1.place(x=260,y=130)\n",
    "label2=Label(root,text=\"Enter your email\",width=20,font=(\"bold\",10))\n",
    "label2.place(x=68,y=180)\n",
    "entry2=Entry(root)\n",
    "entry2.place(x=260,y=180)\n",
    "label8=Label(root,text=\"Enter your email\",width=20,font=(\"bold\",10))\n",
    "label8.place(x=600,y=120)\n",
    "entry8=Entry(root)\n",
    "entry8.place(x=780,y=120)\n",
    "label11=Label(root,text=\"Confirm a password\",width=20,font=(\"bold\",10))\n",
    "label11.place(x=600,y=180)\n",
    "entry11=Entry(root)\n",
    "entry11.place(x=780,y=180)\n",
    "label3=Label(root,text=\"Create a password\",width=20,font=(\"bold\",10))\n",
    "label3.place(x=70,y=230)\n",
    "entry3=Entry(root)\n",
    "entry3.place(x=260,y=230)\n",
    "label4=Label(root,text=\"Confirm a password\",width=20,font=(\"bold\",10))\n",
    "label4.place(x=72,y=280)\n",
    "entry4=Entry(root)\n",
    "entry4.place(x=260,y=280)\n",
    "var=IntVar()\n",
    "Radiobutton(root,text=\"i accept all terms & condition\",padx=5,variabl=var,value=1,font=(\"bold\",10)).place(x=100,y=320)\n",
    "Radiobutton(root,text=\"not accept all terms & condition\",padx=5,variabl=var,value=2,font=(\"bold\",10)).place(x=100,y=350)\n",
    "var=IntVar()\n",
    "Radiobutton(root,text=\"Remember me\",padx=5,variabl=var,value=1,font=(\"bold\",10)).place(x=620,y=220)\n",
    "r=Button(root,text=\"Register Now\",width=35,bg=\"blue\",font=(\"bold\",10),fg=\"white\").place(x=100,y=400)\n",
    "label7=Label(root,text=\"Already have an account?\",padx=5,width=20,font=(\"bold\",10))\n",
    "label7.place(x=100,y=450)\n",
    "r1=Button(root,text=\"login now\",width=10,fg=\"blue\").place(x=260,y=450)\n",
    "r2=Button(root,text=\"Forgat password?\",width=15,fg=\"blue\").place(x=800,y=220)\n",
    "r12=Button(root,text=\"Login Now\",width=35,bg=\"blue\",font=(\"bold\",10),fg=\"white\").place(x=630,y=280)\n",
    "label13=Label(root,text=\"Don`t have an account?\",padx=5,width=20,font=(\"bold\",10))\n",
    "label13.place(x=630,y=340)\n",
    "r14=Button(root,text=\"Signup now\",width=10,fg=\"blue\").place(x=790,y=340)\n",
    "root.mainloop()\n",
    "\n",
    "\n",
    "\n"
   ]
  },
  {
   "cell_type": "code",
   "execution_count": null,
   "id": "6b9a67df",
   "metadata": {},
   "outputs": [],
   "source": [
    "\n"
   ]
  }
 ],
 "metadata": {
  "kernelspec": {
   "display_name": "Python 3 (ipykernel)",
   "language": "python",
   "name": "python3"
  },
  "language_info": {
   "codemirror_mode": {
    "name": "ipython",
    "version": 3
   },
   "file_extension": ".py",
   "mimetype": "text/x-python",
   "name": "python",
   "nbconvert_exporter": "python",
   "pygments_lexer": "ipython3",
   "version": "3.10.9"
  }
 },
 "nbformat": 4,
 "nbformat_minor": 5
}
